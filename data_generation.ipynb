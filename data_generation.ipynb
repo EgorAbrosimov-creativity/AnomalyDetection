{
 "cells": [
  {
   "cell_type": "markdown",
   "id": "51edf4cb",
   "metadata": {},
   "source": [
    "# Imports"
   ]
  },
  {
   "cell_type": "code",
   "execution_count": 31,
   "id": "16a0a4de",
   "metadata": {},
   "outputs": [],
   "source": [
    "import pandas as pd"
   ]
  },
  {
   "cell_type": "markdown",
   "id": "c1502e40",
   "metadata": {},
   "source": [
    "# Load data"
   ]
  },
  {
   "cell_type": "code",
   "execution_count": 32,
   "id": "1bb3017c",
   "metadata": {},
   "outputs": [
    {
     "data": {
      "text/html": [
       "<div>\n",
       "<style scoped>\n",
       "    .dataframe tbody tr th:only-of-type {\n",
       "        vertical-align: middle;\n",
       "    }\n",
       "\n",
       "    .dataframe tbody tr th {\n",
       "        vertical-align: top;\n",
       "    }\n",
       "\n",
       "    .dataframe thead th {\n",
       "        text-align: right;\n",
       "    }\n",
       "</style>\n",
       "<table border=\"1\" class=\"dataframe\">\n",
       "  <thead>\n",
       "    <tr style=\"text-align: right;\">\n",
       "      <th></th>\n",
       "      <th>Time</th>\n",
       "      <th>V1</th>\n",
       "      <th>V2</th>\n",
       "      <th>V3</th>\n",
       "      <th>V4</th>\n",
       "      <th>V5</th>\n",
       "      <th>V6</th>\n",
       "      <th>V7</th>\n",
       "      <th>V8</th>\n",
       "      <th>V9</th>\n",
       "      <th>...</th>\n",
       "      <th>V21</th>\n",
       "      <th>V22</th>\n",
       "      <th>V23</th>\n",
       "      <th>V24</th>\n",
       "      <th>V25</th>\n",
       "      <th>V26</th>\n",
       "      <th>V27</th>\n",
       "      <th>V28</th>\n",
       "      <th>Amount</th>\n",
       "      <th>Class</th>\n",
       "    </tr>\n",
       "  </thead>\n",
       "  <tbody>\n",
       "    <tr>\n",
       "      <th>0</th>\n",
       "      <td>0.0</td>\n",
       "      <td>-1.359807</td>\n",
       "      <td>-0.072781</td>\n",
       "      <td>2.536347</td>\n",
       "      <td>1.378155</td>\n",
       "      <td>-0.338321</td>\n",
       "      <td>0.462388</td>\n",
       "      <td>0.239599</td>\n",
       "      <td>0.098698</td>\n",
       "      <td>0.363787</td>\n",
       "      <td>...</td>\n",
       "      <td>-0.018307</td>\n",
       "      <td>0.277838</td>\n",
       "      <td>-0.110474</td>\n",
       "      <td>0.066928</td>\n",
       "      <td>0.128539</td>\n",
       "      <td>-0.189115</td>\n",
       "      <td>0.133558</td>\n",
       "      <td>-0.021053</td>\n",
       "      <td>149.62</td>\n",
       "      <td>0</td>\n",
       "    </tr>\n",
       "    <tr>\n",
       "      <th>1</th>\n",
       "      <td>0.0</td>\n",
       "      <td>1.191857</td>\n",
       "      <td>0.266151</td>\n",
       "      <td>0.166480</td>\n",
       "      <td>0.448154</td>\n",
       "      <td>0.060018</td>\n",
       "      <td>-0.082361</td>\n",
       "      <td>-0.078803</td>\n",
       "      <td>0.085102</td>\n",
       "      <td>-0.255425</td>\n",
       "      <td>...</td>\n",
       "      <td>-0.225775</td>\n",
       "      <td>-0.638672</td>\n",
       "      <td>0.101288</td>\n",
       "      <td>-0.339846</td>\n",
       "      <td>0.167170</td>\n",
       "      <td>0.125895</td>\n",
       "      <td>-0.008983</td>\n",
       "      <td>0.014724</td>\n",
       "      <td>2.69</td>\n",
       "      <td>0</td>\n",
       "    </tr>\n",
       "    <tr>\n",
       "      <th>2</th>\n",
       "      <td>1.0</td>\n",
       "      <td>-1.358354</td>\n",
       "      <td>-1.340163</td>\n",
       "      <td>1.773209</td>\n",
       "      <td>0.379780</td>\n",
       "      <td>-0.503198</td>\n",
       "      <td>1.800499</td>\n",
       "      <td>0.791461</td>\n",
       "      <td>0.247676</td>\n",
       "      <td>-1.514654</td>\n",
       "      <td>...</td>\n",
       "      <td>0.247998</td>\n",
       "      <td>0.771679</td>\n",
       "      <td>0.909412</td>\n",
       "      <td>-0.689281</td>\n",
       "      <td>-0.327642</td>\n",
       "      <td>-0.139097</td>\n",
       "      <td>-0.055353</td>\n",
       "      <td>-0.059752</td>\n",
       "      <td>378.66</td>\n",
       "      <td>0</td>\n",
       "    </tr>\n",
       "  </tbody>\n",
       "</table>\n",
       "<p>3 rows × 31 columns</p>\n",
       "</div>"
      ],
      "text/plain": [
       "   Time        V1        V2        V3        V4        V5        V6        V7  \\\n",
       "0   0.0 -1.359807 -0.072781  2.536347  1.378155 -0.338321  0.462388  0.239599   \n",
       "1   0.0  1.191857  0.266151  0.166480  0.448154  0.060018 -0.082361 -0.078803   \n",
       "2   1.0 -1.358354 -1.340163  1.773209  0.379780 -0.503198  1.800499  0.791461   \n",
       "\n",
       "         V8        V9  ...       V21       V22       V23       V24       V25  \\\n",
       "0  0.098698  0.363787  ... -0.018307  0.277838 -0.110474  0.066928  0.128539   \n",
       "1  0.085102 -0.255425  ... -0.225775 -0.638672  0.101288 -0.339846  0.167170   \n",
       "2  0.247676 -1.514654  ...  0.247998  0.771679  0.909412 -0.689281 -0.327642   \n",
       "\n",
       "        V26       V27       V28  Amount  Class  \n",
       "0 -0.189115  0.133558 -0.021053  149.62      0  \n",
       "1  0.125895 -0.008983  0.014724    2.69      0  \n",
       "2 -0.139097 -0.055353 -0.059752  378.66      0  \n",
       "\n",
       "[3 rows x 31 columns]"
      ]
     },
     "execution_count": 32,
     "metadata": {},
     "output_type": "execute_result"
    }
   ],
   "source": [
    "df = pd.read_csv('data/raw/creditcard.csv')\n",
    "df.head(3)"
   ]
  },
  {
   "cell_type": "markdown",
   "id": "3b631e97",
   "metadata": {},
   "source": [
    "# Split"
   ]
  },
  {
   "cell_type": "code",
   "execution_count": 33,
   "id": "b2a8a48b",
   "metadata": {},
   "outputs": [
    {
     "data": {
      "text/plain": [
       "0.03000277380822803"
      ]
     },
     "execution_count": 33,
     "metadata": {},
     "output_type": "execute_result"
    }
   ],
   "source": [
    "quantile_30 = df['Time'].quantile(0.03)\n",
    "\n",
    "df_train = df.loc[df['Time'] < quantile_30]\n",
    "len(df_train) / len(df)"
   ]
  },
  {
   "cell_type": "code",
   "execution_count": 34,
   "id": "a615bfcc",
   "metadata": {},
   "outputs": [
    {
     "data": {
      "text/plain": [
       "0    8517\n",
       "1      28\n",
       "Name: Class, dtype: int64"
      ]
     },
     "execution_count": 34,
     "metadata": {},
     "output_type": "execute_result"
    }
   ],
   "source": [
    "df_train['Class'].value_counts()"
   ]
  },
  {
   "cell_type": "code",
   "execution_count": 35,
   "id": "81fd9df0",
   "metadata": {},
   "outputs": [
    {
     "data": {
      "text/plain": [
       "1    464\n",
       "Name: Class, dtype: int64"
      ]
     },
     "metadata": {},
     "output_type": "display_data"
    },
    {
     "data": {
      "text/html": [
       "<div>\n",
       "<style scoped>\n",
       "    .dataframe tbody tr th:only-of-type {\n",
       "        vertical-align: middle;\n",
       "    }\n",
       "\n",
       "    .dataframe tbody tr th {\n",
       "        vertical-align: top;\n",
       "    }\n",
       "\n",
       "    .dataframe thead th {\n",
       "        text-align: right;\n",
       "    }\n",
       "</style>\n",
       "<table border=\"1\" class=\"dataframe\">\n",
       "  <thead>\n",
       "    <tr style=\"text-align: right;\">\n",
       "      <th></th>\n",
       "      <th>Time</th>\n",
       "      <th>V1</th>\n",
       "      <th>V2</th>\n",
       "      <th>V3</th>\n",
       "      <th>V4</th>\n",
       "      <th>V5</th>\n",
       "      <th>V6</th>\n",
       "      <th>V7</th>\n",
       "      <th>V8</th>\n",
       "      <th>V9</th>\n",
       "      <th>...</th>\n",
       "      <th>V21</th>\n",
       "      <th>V22</th>\n",
       "      <th>V23</th>\n",
       "      <th>V24</th>\n",
       "      <th>V25</th>\n",
       "      <th>V26</th>\n",
       "      <th>V27</th>\n",
       "      <th>V28</th>\n",
       "      <th>Amount</th>\n",
       "      <th>Class</th>\n",
       "    </tr>\n",
       "  </thead>\n",
       "  <tbody>\n",
       "    <tr>\n",
       "      <th>8615</th>\n",
       "      <td>11629.0</td>\n",
       "      <td>-3.891192</td>\n",
       "      <td>7.098916</td>\n",
       "      <td>-11.426467</td>\n",
       "      <td>8.607557</td>\n",
       "      <td>-2.065706</td>\n",
       "      <td>-2.985288</td>\n",
       "      <td>-8.138589</td>\n",
       "      <td>2.973928</td>\n",
       "      <td>-6.272790</td>\n",
       "      <td>...</td>\n",
       "      <td>1.757085</td>\n",
       "      <td>-0.189709</td>\n",
       "      <td>-0.508629</td>\n",
       "      <td>-1.189308</td>\n",
       "      <td>1.188536</td>\n",
       "      <td>0.605242</td>\n",
       "      <td>1.881529</td>\n",
       "      <td>0.875260</td>\n",
       "      <td>1.00</td>\n",
       "      <td>1</td>\n",
       "    </tr>\n",
       "    <tr>\n",
       "      <th>8617</th>\n",
       "      <td>11635.0</td>\n",
       "      <td>0.919137</td>\n",
       "      <td>4.199633</td>\n",
       "      <td>-7.535607</td>\n",
       "      <td>7.426940</td>\n",
       "      <td>1.118215</td>\n",
       "      <td>-2.886722</td>\n",
       "      <td>-1.341036</td>\n",
       "      <td>0.363933</td>\n",
       "      <td>-2.203224</td>\n",
       "      <td>...</td>\n",
       "      <td>0.316094</td>\n",
       "      <td>0.055179</td>\n",
       "      <td>0.210692</td>\n",
       "      <td>-0.417918</td>\n",
       "      <td>-0.911188</td>\n",
       "      <td>0.466524</td>\n",
       "      <td>0.627393</td>\n",
       "      <td>0.157851</td>\n",
       "      <td>1.00</td>\n",
       "      <td>1</td>\n",
       "    </tr>\n",
       "    <tr>\n",
       "      <th>8842</th>\n",
       "      <td>12093.0</td>\n",
       "      <td>-4.696795</td>\n",
       "      <td>2.693867</td>\n",
       "      <td>-4.475133</td>\n",
       "      <td>5.467685</td>\n",
       "      <td>-1.556758</td>\n",
       "      <td>-1.549420</td>\n",
       "      <td>-4.104215</td>\n",
       "      <td>0.553934</td>\n",
       "      <td>-1.498468</td>\n",
       "      <td>...</td>\n",
       "      <td>0.573898</td>\n",
       "      <td>-0.080163</td>\n",
       "      <td>0.318408</td>\n",
       "      <td>-0.245862</td>\n",
       "      <td>0.338238</td>\n",
       "      <td>0.032271</td>\n",
       "      <td>-1.508458</td>\n",
       "      <td>0.608075</td>\n",
       "      <td>0.00</td>\n",
       "      <td>1</td>\n",
       "    </tr>\n",
       "    <tr>\n",
       "      <th>8845</th>\n",
       "      <td>12095.0</td>\n",
       "      <td>-4.727713</td>\n",
       "      <td>3.044469</td>\n",
       "      <td>-5.598354</td>\n",
       "      <td>5.928191</td>\n",
       "      <td>-2.190770</td>\n",
       "      <td>-1.529323</td>\n",
       "      <td>-4.487422</td>\n",
       "      <td>0.916392</td>\n",
       "      <td>-1.307010</td>\n",
       "      <td>...</td>\n",
       "      <td>0.650988</td>\n",
       "      <td>0.254983</td>\n",
       "      <td>0.628843</td>\n",
       "      <td>-0.238128</td>\n",
       "      <td>-0.671332</td>\n",
       "      <td>-0.033590</td>\n",
       "      <td>-1.331777</td>\n",
       "      <td>0.705698</td>\n",
       "      <td>30.39</td>\n",
       "      <td>1</td>\n",
       "    </tr>\n",
       "    <tr>\n",
       "      <th>8972</th>\n",
       "      <td>12393.0</td>\n",
       "      <td>-4.064005</td>\n",
       "      <td>3.100935</td>\n",
       "      <td>-1.188498</td>\n",
       "      <td>3.264633</td>\n",
       "      <td>-1.903562</td>\n",
       "      <td>0.320351</td>\n",
       "      <td>-0.954940</td>\n",
       "      <td>-3.277535</td>\n",
       "      <td>2.820829</td>\n",
       "      <td>...</td>\n",
       "      <td>1.688665</td>\n",
       "      <td>-0.078845</td>\n",
       "      <td>0.193731</td>\n",
       "      <td>0.479496</td>\n",
       "      <td>-0.506603</td>\n",
       "      <td>-0.409863</td>\n",
       "      <td>-3.036271</td>\n",
       "      <td>-0.630605</td>\n",
       "      <td>179.66</td>\n",
       "      <td>1</td>\n",
       "    </tr>\n",
       "  </tbody>\n",
       "</table>\n",
       "<p>5 rows × 31 columns</p>\n",
       "</div>"
      ],
      "text/plain": [
       "         Time        V1        V2         V3        V4        V5        V6  \\\n",
       "8615  11629.0 -3.891192  7.098916 -11.426467  8.607557 -2.065706 -2.985288   \n",
       "8617  11635.0  0.919137  4.199633  -7.535607  7.426940  1.118215 -2.886722   \n",
       "8842  12093.0 -4.696795  2.693867  -4.475133  5.467685 -1.556758 -1.549420   \n",
       "8845  12095.0 -4.727713  3.044469  -5.598354  5.928191 -2.190770 -1.529323   \n",
       "8972  12393.0 -4.064005  3.100935  -1.188498  3.264633 -1.903562  0.320351   \n",
       "\n",
       "            V7        V8        V9  ...       V21       V22       V23  \\\n",
       "8615 -8.138589  2.973928 -6.272790  ...  1.757085 -0.189709 -0.508629   \n",
       "8617 -1.341036  0.363933 -2.203224  ...  0.316094  0.055179  0.210692   \n",
       "8842 -4.104215  0.553934 -1.498468  ...  0.573898 -0.080163  0.318408   \n",
       "8845 -4.487422  0.916392 -1.307010  ...  0.650988  0.254983  0.628843   \n",
       "8972 -0.954940 -3.277535  2.820829  ...  1.688665 -0.078845  0.193731   \n",
       "\n",
       "           V24       V25       V26       V27       V28  Amount  Class  \n",
       "8615 -1.189308  1.188536  0.605242  1.881529  0.875260    1.00      1  \n",
       "8617 -0.417918 -0.911188  0.466524  0.627393  0.157851    1.00      1  \n",
       "8842 -0.245862  0.338238  0.032271 -1.508458  0.608075    0.00      1  \n",
       "8845 -0.238128 -0.671332 -0.033590 -1.331777  0.705698   30.39      1  \n",
       "8972  0.479496 -0.506603 -0.409863 -3.036271 -0.630605  179.66      1  \n",
       "\n",
       "[5 rows x 31 columns]"
      ]
     },
     "metadata": {},
     "output_type": "display_data"
    }
   ],
   "source": [
    "df_test_positive = df.loc[(df['Time'] >= quantile_30)\n",
    "                         & (df['Class'] == 1)]\n",
    "display(\n",
    "    df_test_positive['Class'].value_counts()\n",
    "    , df_test_positive.head()\n",
    ")"
   ]
  },
  {
   "cell_type": "code",
   "execution_count": 36,
   "id": "ff34044f",
   "metadata": {},
   "outputs": [
    {
     "data": {
      "text/plain": [
       "(2758, 31)"
      ]
     },
     "execution_count": 36,
     "metadata": {},
     "output_type": "execute_result"
    }
   ],
   "source": [
    "df_test_negative = df.loc[(df['Time'] >= quantile_30)\n",
    "                         & (df['Class'] == 0)]\n",
    "\n",
    "df_test_negative_sample = df_test_negative.sample(frac=0.01, random_state=16)\n",
    "df_test_negative_sample.shape"
   ]
  },
  {
   "cell_type": "markdown",
   "id": "e3176f03",
   "metadata": {},
   "source": [
    "# Concat new test"
   ]
  },
  {
   "cell_type": "code",
   "execution_count": 37,
   "id": "13c975aa",
   "metadata": {},
   "outputs": [
    {
     "data": {
      "text/plain": [
       "0    2758\n",
       "1     464\n",
       "Name: Class, dtype: int64"
      ]
     },
     "execution_count": 37,
     "metadata": {},
     "output_type": "execute_result"
    }
   ],
   "source": [
    "df_test = pd.concat([df_test_positive, df_test_negative_sample])\n",
    "df_test['Class'].value_counts()"
   ]
  },
  {
   "cell_type": "markdown",
   "id": "7cb5c9e4",
   "metadata": {},
   "source": [
    "# Drop fraud from train"
   ]
  },
  {
   "cell_type": "code",
   "execution_count": 38,
   "id": "44de217b",
   "metadata": {},
   "outputs": [
    {
     "name": "stdout",
     "output_type": "stream",
     "text": [
      "(8545, 31)\n",
      "(8517, 31)\n"
     ]
    }
   ],
   "source": [
    "print(df_train.shape)\n",
    "df_train = df_train.loc[df_train['Class'] == 0]\n",
    "print(df_train.shape)"
   ]
  },
  {
   "cell_type": "code",
   "execution_count": 39,
   "id": "b9e268f6",
   "metadata": {},
   "outputs": [],
   "source": [
    "df_train.drop(columns=['Class'], inplace=True)"
   ]
  },
  {
   "cell_type": "markdown",
   "id": "bcce201b",
   "metadata": {},
   "source": [
    "# Save df"
   ]
  },
  {
   "cell_type": "code",
   "execution_count": 40,
   "id": "20315d47",
   "metadata": {},
   "outputs": [],
   "source": [
    "df_train.to_csv('data/ready/novelty_detection/train.csv', index=False)"
   ]
  },
  {
   "cell_type": "code",
   "execution_count": 41,
   "id": "22b19a2a",
   "metadata": {},
   "outputs": [],
   "source": [
    "df_test.to_csv('data/ready/novelty_detection/test.csv', index=False)"
   ]
  },
  {
   "cell_type": "code",
   "execution_count": null,
   "id": "f49b599a",
   "metadata": {},
   "outputs": [],
   "source": []
  }
 ],
 "metadata": {
  "kernelspec": {
   "display_name": "Python 3 (ipykernel)",
   "language": "python",
   "name": "python3"
  },
  "language_info": {
   "codemirror_mode": {
    "name": "ipython",
    "version": 3
   },
   "file_extension": ".py",
   "mimetype": "text/x-python",
   "name": "python",
   "nbconvert_exporter": "python",
   "pygments_lexer": "ipython3",
   "version": "3.9.13"
  }
 },
 "nbformat": 4,
 "nbformat_minor": 5
}
