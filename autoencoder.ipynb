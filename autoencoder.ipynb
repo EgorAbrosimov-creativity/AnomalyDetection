{
 "cells": [
  {
   "cell_type": "markdown",
   "id": "1784ee61",
   "metadata": {},
   "source": [
    "# Imports"
   ]
  },
  {
   "cell_type": "code",
   "execution_count": 14,
   "id": "3699a59e",
   "metadata": {},
   "outputs": [],
   "source": [
    "import pandas as pd\n",
    "import numpy as np\n",
    "import matplotlib.pyplot as plt\n",
    "import seaborn as sns\n",
    "\n",
    "import tensorflow as tf\n",
    "from tensorflow.keras import layers, losses\n",
    "from sklearn.metrics import recall_score, confusion_matrix, accuracy_score, ConfusionMatrixDisplay\n",
    "\n",
    "import pickle as pkl"
   ]
  },
  {
   "cell_type": "markdown",
   "id": "9ace9421",
   "metadata": {},
   "source": [
    "# Load data"
   ]
  },
  {
   "cell_type": "code",
   "execution_count": 2,
   "id": "0a1d9c6a",
   "metadata": {},
   "outputs": [
    {
     "data": {
      "text/html": [
       "<div>\n",
       "<style scoped>\n",
       "    .dataframe tbody tr th:only-of-type {\n",
       "        vertical-align: middle;\n",
       "    }\n",
       "\n",
       "    .dataframe tbody tr th {\n",
       "        vertical-align: top;\n",
       "    }\n",
       "\n",
       "    .dataframe thead th {\n",
       "        text-align: right;\n",
       "    }\n",
       "</style>\n",
       "<table border=\"1\" class=\"dataframe\">\n",
       "  <thead>\n",
       "    <tr style=\"text-align: right;\">\n",
       "      <th></th>\n",
       "      <th>Time</th>\n",
       "      <th>V1</th>\n",
       "      <th>V2</th>\n",
       "      <th>V3</th>\n",
       "      <th>V4</th>\n",
       "      <th>V5</th>\n",
       "      <th>V6</th>\n",
       "      <th>V7</th>\n",
       "      <th>V8</th>\n",
       "      <th>V9</th>\n",
       "      <th>...</th>\n",
       "      <th>V20</th>\n",
       "      <th>V21</th>\n",
       "      <th>V22</th>\n",
       "      <th>V23</th>\n",
       "      <th>V24</th>\n",
       "      <th>V25</th>\n",
       "      <th>V26</th>\n",
       "      <th>V27</th>\n",
       "      <th>V28</th>\n",
       "      <th>Amount</th>\n",
       "    </tr>\n",
       "  </thead>\n",
       "  <tbody>\n",
       "    <tr>\n",
       "      <th>0</th>\n",
       "      <td>0.0</td>\n",
       "      <td>-1.359807</td>\n",
       "      <td>-0.072781</td>\n",
       "      <td>2.536347</td>\n",
       "      <td>1.378155</td>\n",
       "      <td>-0.338321</td>\n",
       "      <td>0.462388</td>\n",
       "      <td>0.239599</td>\n",
       "      <td>0.098698</td>\n",
       "      <td>0.363787</td>\n",
       "      <td>...</td>\n",
       "      <td>0.251412</td>\n",
       "      <td>-0.018307</td>\n",
       "      <td>0.277838</td>\n",
       "      <td>-0.110474</td>\n",
       "      <td>0.066928</td>\n",
       "      <td>0.128539</td>\n",
       "      <td>-0.189115</td>\n",
       "      <td>0.133558</td>\n",
       "      <td>-0.021053</td>\n",
       "      <td>149.62</td>\n",
       "    </tr>\n",
       "    <tr>\n",
       "      <th>1</th>\n",
       "      <td>0.0</td>\n",
       "      <td>1.191857</td>\n",
       "      <td>0.266151</td>\n",
       "      <td>0.166480</td>\n",
       "      <td>0.448154</td>\n",
       "      <td>0.060018</td>\n",
       "      <td>-0.082361</td>\n",
       "      <td>-0.078803</td>\n",
       "      <td>0.085102</td>\n",
       "      <td>-0.255425</td>\n",
       "      <td>...</td>\n",
       "      <td>-0.069083</td>\n",
       "      <td>-0.225775</td>\n",
       "      <td>-0.638672</td>\n",
       "      <td>0.101288</td>\n",
       "      <td>-0.339846</td>\n",
       "      <td>0.167170</td>\n",
       "      <td>0.125895</td>\n",
       "      <td>-0.008983</td>\n",
       "      <td>0.014724</td>\n",
       "      <td>2.69</td>\n",
       "    </tr>\n",
       "    <tr>\n",
       "      <th>2</th>\n",
       "      <td>1.0</td>\n",
       "      <td>-1.358354</td>\n",
       "      <td>-1.340163</td>\n",
       "      <td>1.773209</td>\n",
       "      <td>0.379780</td>\n",
       "      <td>-0.503198</td>\n",
       "      <td>1.800499</td>\n",
       "      <td>0.791461</td>\n",
       "      <td>0.247676</td>\n",
       "      <td>-1.514654</td>\n",
       "      <td>...</td>\n",
       "      <td>0.524980</td>\n",
       "      <td>0.247998</td>\n",
       "      <td>0.771679</td>\n",
       "      <td>0.909412</td>\n",
       "      <td>-0.689281</td>\n",
       "      <td>-0.327642</td>\n",
       "      <td>-0.139097</td>\n",
       "      <td>-0.055353</td>\n",
       "      <td>-0.059752</td>\n",
       "      <td>378.66</td>\n",
       "    </tr>\n",
       "  </tbody>\n",
       "</table>\n",
       "<p>3 rows × 30 columns</p>\n",
       "</div>"
      ],
      "text/plain": [
       "   Time        V1        V2        V3        V4        V5        V6        V7  \\\n",
       "0   0.0 -1.359807 -0.072781  2.536347  1.378155 -0.338321  0.462388  0.239599   \n",
       "1   0.0  1.191857  0.266151  0.166480  0.448154  0.060018 -0.082361 -0.078803   \n",
       "2   1.0 -1.358354 -1.340163  1.773209  0.379780 -0.503198  1.800499  0.791461   \n",
       "\n",
       "         V8        V9  ...       V20       V21       V22       V23       V24  \\\n",
       "0  0.098698  0.363787  ...  0.251412 -0.018307  0.277838 -0.110474  0.066928   \n",
       "1  0.085102 -0.255425  ... -0.069083 -0.225775 -0.638672  0.101288 -0.339846   \n",
       "2  0.247676 -1.514654  ...  0.524980  0.247998  0.771679  0.909412 -0.689281   \n",
       "\n",
       "        V25       V26       V27       V28  Amount  \n",
       "0  0.128539 -0.189115  0.133558 -0.021053  149.62  \n",
       "1  0.167170  0.125895 -0.008983  0.014724    2.69  \n",
       "2 -0.327642 -0.139097 -0.055353 -0.059752  378.66  \n",
       "\n",
       "[3 rows x 30 columns]"
      ]
     },
     "execution_count": 2,
     "metadata": {},
     "output_type": "execute_result"
    }
   ],
   "source": [
    "df_train = pd.read_csv('data/ready/novelty_detection/train.csv')\n",
    "df_train.head(3)"
   ]
  },
  {
   "cell_type": "code",
   "execution_count": 3,
   "id": "3aa94121",
   "metadata": {},
   "outputs": [
    {
     "data": {
      "text/html": [
       "<div>\n",
       "<style scoped>\n",
       "    .dataframe tbody tr th:only-of-type {\n",
       "        vertical-align: middle;\n",
       "    }\n",
       "\n",
       "    .dataframe tbody tr th {\n",
       "        vertical-align: top;\n",
       "    }\n",
       "\n",
       "    .dataframe thead th {\n",
       "        text-align: right;\n",
       "    }\n",
       "</style>\n",
       "<table border=\"1\" class=\"dataframe\">\n",
       "  <thead>\n",
       "    <tr style=\"text-align: right;\">\n",
       "      <th></th>\n",
       "      <th>Time</th>\n",
       "      <th>V1</th>\n",
       "      <th>V2</th>\n",
       "      <th>V3</th>\n",
       "      <th>V4</th>\n",
       "      <th>V5</th>\n",
       "      <th>V6</th>\n",
       "      <th>V7</th>\n",
       "      <th>V8</th>\n",
       "      <th>V9</th>\n",
       "      <th>...</th>\n",
       "      <th>V21</th>\n",
       "      <th>V22</th>\n",
       "      <th>V23</th>\n",
       "      <th>V24</th>\n",
       "      <th>V25</th>\n",
       "      <th>V26</th>\n",
       "      <th>V27</th>\n",
       "      <th>V28</th>\n",
       "      <th>Amount</th>\n",
       "      <th>Class</th>\n",
       "    </tr>\n",
       "  </thead>\n",
       "  <tbody>\n",
       "    <tr>\n",
       "      <th>0</th>\n",
       "      <td>11629.0</td>\n",
       "      <td>-3.891192</td>\n",
       "      <td>7.098916</td>\n",
       "      <td>-11.426467</td>\n",
       "      <td>8.607557</td>\n",
       "      <td>-2.065706</td>\n",
       "      <td>-2.985288</td>\n",
       "      <td>-8.138589</td>\n",
       "      <td>2.973928</td>\n",
       "      <td>-6.272790</td>\n",
       "      <td>...</td>\n",
       "      <td>1.757085</td>\n",
       "      <td>-0.189709</td>\n",
       "      <td>-0.508629</td>\n",
       "      <td>-1.189308</td>\n",
       "      <td>1.188536</td>\n",
       "      <td>0.605242</td>\n",
       "      <td>1.881529</td>\n",
       "      <td>0.875260</td>\n",
       "      <td>1.0</td>\n",
       "      <td>1</td>\n",
       "    </tr>\n",
       "    <tr>\n",
       "      <th>1</th>\n",
       "      <td>11635.0</td>\n",
       "      <td>0.919137</td>\n",
       "      <td>4.199633</td>\n",
       "      <td>-7.535607</td>\n",
       "      <td>7.426940</td>\n",
       "      <td>1.118215</td>\n",
       "      <td>-2.886722</td>\n",
       "      <td>-1.341036</td>\n",
       "      <td>0.363933</td>\n",
       "      <td>-2.203224</td>\n",
       "      <td>...</td>\n",
       "      <td>0.316094</td>\n",
       "      <td>0.055179</td>\n",
       "      <td>0.210692</td>\n",
       "      <td>-0.417918</td>\n",
       "      <td>-0.911188</td>\n",
       "      <td>0.466524</td>\n",
       "      <td>0.627393</td>\n",
       "      <td>0.157851</td>\n",
       "      <td>1.0</td>\n",
       "      <td>1</td>\n",
       "    </tr>\n",
       "    <tr>\n",
       "      <th>2</th>\n",
       "      <td>12093.0</td>\n",
       "      <td>-4.696795</td>\n",
       "      <td>2.693867</td>\n",
       "      <td>-4.475133</td>\n",
       "      <td>5.467685</td>\n",
       "      <td>-1.556758</td>\n",
       "      <td>-1.549420</td>\n",
       "      <td>-4.104215</td>\n",
       "      <td>0.553934</td>\n",
       "      <td>-1.498468</td>\n",
       "      <td>...</td>\n",
       "      <td>0.573898</td>\n",
       "      <td>-0.080163</td>\n",
       "      <td>0.318408</td>\n",
       "      <td>-0.245862</td>\n",
       "      <td>0.338238</td>\n",
       "      <td>0.032271</td>\n",
       "      <td>-1.508458</td>\n",
       "      <td>0.608075</td>\n",
       "      <td>0.0</td>\n",
       "      <td>1</td>\n",
       "    </tr>\n",
       "  </tbody>\n",
       "</table>\n",
       "<p>3 rows × 31 columns</p>\n",
       "</div>"
      ],
      "text/plain": [
       "      Time        V1        V2         V3        V4        V5        V6  \\\n",
       "0  11629.0 -3.891192  7.098916 -11.426467  8.607557 -2.065706 -2.985288   \n",
       "1  11635.0  0.919137  4.199633  -7.535607  7.426940  1.118215 -2.886722   \n",
       "2  12093.0 -4.696795  2.693867  -4.475133  5.467685 -1.556758 -1.549420   \n",
       "\n",
       "         V7        V8        V9  ...       V21       V22       V23       V24  \\\n",
       "0 -8.138589  2.973928 -6.272790  ...  1.757085 -0.189709 -0.508629 -1.189308   \n",
       "1 -1.341036  0.363933 -2.203224  ...  0.316094  0.055179  0.210692 -0.417918   \n",
       "2 -4.104215  0.553934 -1.498468  ...  0.573898 -0.080163  0.318408 -0.245862   \n",
       "\n",
       "        V25       V26       V27       V28  Amount  Class  \n",
       "0  1.188536  0.605242  1.881529  0.875260     1.0      1  \n",
       "1 -0.911188  0.466524  0.627393  0.157851     1.0      1  \n",
       "2  0.338238  0.032271 -1.508458  0.608075     0.0      1  \n",
       "\n",
       "[3 rows x 31 columns]"
      ]
     },
     "execution_count": 3,
     "metadata": {},
     "output_type": "execute_result"
    }
   ],
   "source": [
    "df_test = pd.read_csv('data/ready/novelty_detection/test.csv')\n",
    "df_test.head(3)"
   ]
  },
  {
   "cell_type": "markdown",
   "id": "ca5bceeb",
   "metadata": {},
   "source": [
    "# Prepare data"
   ]
  },
  {
   "cell_type": "code",
   "execution_count": 4,
   "id": "06113084",
   "metadata": {},
   "outputs": [
    {
     "data": {
      "text/plain": [
       "{'V9': {'mean': 0.7146190771795187, 'std': 1.1408180520740157},\n",
       " 'V5': {'mean': -0.034014064445657896, 'std': 1.1469934107507669},\n",
       " 'V25': {'mean': 0.08816896455896987, 'std': 0.422913932767026},\n",
       " 'V28': {'mean': 0.0012378722056445982, 'std': 0.27084898091255255},\n",
       " 'V23': {'mean': -0.03642609648668205, 'std': 0.47721176144869615},\n",
       " 'V15': {'mean': -0.0832484387421991, 'std': 0.9762988869944756},\n",
       " 'V27': {'mean': 0.009360769856715148, 'std': 0.3969568709147506},\n",
       " 'V1': {'mean': -0.2603650842925114, 'std': 1.491390025700216},\n",
       " 'V19': {'mean': -0.05525353643229752, 'std': 0.8024721730721641},\n",
       " 'V14': {'mean': 0.6405087677843762, 'std': 1.0283090565656978},\n",
       " 'V7': {'mean': -0.03326239531396446, 'std': 1.0283209938929365},\n",
       " 'V3': {'mean': 0.9237004737020951, 'std': 1.0265360949372908},\n",
       " 'V22': {'mean': -0.1568740594384358, 'std': 0.6455801984878736},\n",
       " 'V10': {'mean': -0.1649298758068517, 'std': 1.025247290830579},\n",
       " 'V26': {'mean': 0.06246142347345862, 'std': 0.5429930869740929},\n",
       " 'V17': {'mean': 0.29293995379806115, 'std': 0.7924163058642049},\n",
       " 'V6': {'mean': 0.14657877534148175, 'std': 1.3010551542551547},\n",
       " 'V2': {'mean': 0.274855778295858, 'std': 1.2520961022790325},\n",
       " 'V12': {'mean': -1.08216362821555, 'std': 1.446289066949223},\n",
       " 'V18': {'mean': -0.03351017278536854, 'std': 0.7833675482869772},\n",
       " 'V24': {'mean': 0.02513541339176269, 'std': 0.5988215393496148},\n",
       " 'V4': {'mean': 0.20244619157265994, 'std': 1.4056832067926015},\n",
       " 'V16': {'mean': -0.0006866908781992518, 'std': 0.8198354700829356},\n",
       " 'V21': {'mean': -0.0545447629903755, 'std': 0.9367743225308132},\n",
       " 'V13': {'mean': 0.7474944916397319, 'std': 1.2325791404117616},\n",
       " 'Amount': {'mean': 63.864555594692305, 'std': 190.93321238041923},\n",
       " 'V8': {'mean': -0.07525882776997626, 'std': 1.3030211279461277},\n",
       " 'V11': {'mean': 0.6630317257350298, 'std': 1.1001824709812897},\n",
       " 'V20': {'mean': 0.037628342723278, 'std': 0.5939648296506373}}"
      ]
     },
     "execution_count": 4,
     "metadata": {},
     "output_type": "execute_result"
    }
   ],
   "source": [
    "with open('data/models/novelty_detection/scaler_stats.pkl', 'rb') as handle:\n",
    "    stats = pkl.load(handle)\n",
    "    \n",
    "stats"
   ]
  },
  {
   "cell_type": "code",
   "execution_count": 5,
   "id": "dd44c2f6",
   "metadata": {},
   "outputs": [],
   "source": [
    "for col in stats.keys():\n",
    "    df_train[col] = (df_train[col] - stats[col]['mean']) / stats[col]['std']\n",
    "    df_test[col] = (df_test[col] - stats[col]['mean']) / stats[col]['std']"
   ]
  },
  {
   "cell_type": "code",
   "execution_count": 6,
   "id": "33e386fb",
   "metadata": {},
   "outputs": [],
   "source": [
    "cols_x = stats.keys()"
   ]
  },
  {
   "cell_type": "markdown",
   "id": "ee4fdad9",
   "metadata": {},
   "source": [
    "# Model"
   ]
  },
  {
   "cell_type": "code",
   "execution_count": 7,
   "id": "cc3e50d8",
   "metadata": {},
   "outputs": [
    {
     "name": "stderr",
     "output_type": "stream",
     "text": [
      "2023-06-11 12:45:22.647011: I tensorflow/core/platform/cpu_feature_guard.cc:151] This TensorFlow binary is optimized with oneAPI Deep Neural Network Library (oneDNN) to use the following CPU instructions in performance-critical operations:  SSE4.1 SSE4.2\n",
      "To enable them in other operations, rebuild TensorFlow with the appropriate compiler flags.\n"
     ]
    }
   ],
   "source": [
    "input_ = tf.keras.layers.Input(shape=(29,))\n",
    "\n",
    "# Encoder layers\n",
    "encoder = tf.keras.Sequential([\n",
    "  layers.Dense(16, activation='relu'),\n",
    "  layers.Dense(8, activation='relu'),\n",
    "  layers.Dense(4, activation='relu')])(input_)\n",
    "\n",
    "# Decoder layers\n",
    "decoder = tf.keras.Sequential([\n",
    "      layers.Dense(8, activation=\"relu\"),\n",
    "      layers.Dense(16, activation=\"relu\"),\n",
    "      layers.Dense(29, activation=\"sigmoid\")])(encoder)\n",
    "\n",
    "# Create the autoencoder\n",
    "autoencoder = tf.keras.Model(inputs=input_, outputs=decoder)"
   ]
  },
  {
   "cell_type": "markdown",
   "id": "979f7989",
   "metadata": {},
   "source": [
    "# Train"
   ]
  },
  {
   "cell_type": "code",
   "execution_count": 8,
   "id": "f9a56cc0",
   "metadata": {},
   "outputs": [
    {
     "name": "stdout",
     "output_type": "stream",
     "text": [
      "Epoch 1/20\n",
      "134/134 [==============================] - 0s 645us/step - loss: 0.7505\n",
      "Epoch 2/20\n",
      "134/134 [==============================] - 0s 577us/step - loss: 0.6734\n",
      "Epoch 3/20\n",
      "134/134 [==============================] - 0s 589us/step - loss: 0.6601\n",
      "Epoch 4/20\n",
      "134/134 [==============================] - 0s 587us/step - loss: 0.6470\n",
      "Epoch 5/20\n",
      "134/134 [==============================] - 0s 594us/step - loss: 0.6416\n",
      "Epoch 6/20\n",
      "134/134 [==============================] - 0s 605us/step - loss: 0.6369\n",
      "Epoch 7/20\n",
      "134/134 [==============================] - 0s 597us/step - loss: 0.6326\n",
      "Epoch 8/20\n",
      "134/134 [==============================] - 0s 578us/step - loss: 0.6292\n",
      "Epoch 9/20\n",
      "134/134 [==============================] - 0s 578us/step - loss: 0.6270\n",
      "Epoch 10/20\n",
      "134/134 [==============================] - 0s 571us/step - loss: 0.6247\n",
      "Epoch 11/20\n",
      "134/134 [==============================] - 0s 572us/step - loss: 0.6223\n",
      "Epoch 12/20\n",
      "134/134 [==============================] - 0s 586us/step - loss: 0.6204\n",
      "Epoch 13/20\n",
      "134/134 [==============================] - 0s 601us/step - loss: 0.6191\n",
      "Epoch 14/20\n",
      "134/134 [==============================] - 0s 607us/step - loss: 0.6179\n",
      "Epoch 15/20\n",
      "134/134 [==============================] - 0s 582us/step - loss: 0.6172\n",
      "Epoch 16/20\n",
      "134/134 [==============================] - 0s 579us/step - loss: 0.6165\n",
      "Epoch 17/20\n",
      "134/134 [==============================] - 0s 580us/step - loss: 0.6158\n",
      "Epoch 18/20\n",
      "134/134 [==============================] - 0s 602us/step - loss: 0.6155\n",
      "Epoch 19/20\n",
      "134/134 [==============================] - 0s 584us/step - loss: 0.6150\n",
      "Epoch 20/20\n",
      "134/134 [==============================] - 0s 586us/step - loss: 0.6146\n"
     ]
    }
   ],
   "source": [
    "autoencoder.compile(optimizer='adam', loss='mae')\n",
    "\n",
    "# Fit the autoencoder\n",
    "history = autoencoder.fit(df_train[cols_x], df_train[cols_x], \n",
    "          epochs=20, \n",
    "          batch_size=64,\n",
    "          #validation_data=(X_test, X_test),\n",
    "          shuffle=True)"
   ]
  },
  {
   "cell_type": "code",
   "execution_count": 11,
   "id": "332a3660",
   "metadata": {},
   "outputs": [
    {
     "name": "stdout",
     "output_type": "stream",
     "text": [
      "The prediction loss threshold for 2% of outliers is 6.14\n"
     ]
    },
    {
     "data": {
      "text/plain": [
       "<matplotlib.lines.Line2D at 0x7fdeb18efeb0>"
      ]
     },
     "execution_count": 11,
     "metadata": {},
     "output_type": "execute_result"
    },
    {
     "data": {
      "image/png": "[encoded data removed]",
      "text/plain": [
       "<Figure size 432x288 with 1 Axes>"
      ]
     },
     "metadata": {
      "needs_background": "light"
     },
     "output_type": "display_data"
    }
   ],
   "source": [
    "prediction = autoencoder.predict(df_test[cols_x])\n",
    "\n",
    "# Get the mean absolute error between actual and reconstruction/prediction\n",
    "prediction_loss = tf.keras.losses.mae(prediction, df_test[cols_x])\n",
    "\n",
    "# Check the prediction loss threshold for 2% of outliers\n",
    "loss_threshold = np.percentile(prediction_loss, 98)\n",
    "print(f'The prediction loss threshold for 2% of outliers is {loss_threshold:.2f}')\n",
    "\n",
    "# Visualize the threshold\n",
    "sns.histplot(prediction_loss, bins=30, alpha=0.8)\n",
    "plt.axvline(x=loss_threshold, color='orange')"
   ]
  },
  {
   "cell_type": "code",
   "execution_count": 13,
   "id": "43fe80d9",
   "metadata": {},
   "outputs": [
    {
     "name": "stdout",
     "output_type": "stream",
     "text": [
      "              precision    recall  f1-score   support\n",
      "\n",
      "           0       0.87      1.00      0.93      2758\n",
      "           1       0.97      0.14      0.24       464\n",
      "\n",
      "    accuracy                           0.87      3222\n",
      "   macro avg       0.92      0.57      0.59      3222\n",
      "weighted avg       0.89      0.87      0.83      3222\n",
      "\n"
     ]
    }
   ],
   "source": [
    "threshold_prediction = [0 if i < loss_threshold else 1 for i in prediction_loss]\n",
    "\n",
    "# # Check the prediction performance\n",
    "print(classification_report(df_test['Class'], threshold_prediction))"
   ]
  },
  {
   "cell_type": "code",
   "execution_count": 15,
   "id": "c9487b14",
   "metadata": {},
   "outputs": [
    {
     "name": "stdout",
     "output_type": "stream",
     "text": [
      "TEST accuracy = 0.8749224084419616\n",
      "TEST recall = 0.9692307692307692\n"
     ]
    },
    {
     "data": {
      "text/plain": [
       "<sklearn.metrics._plot.confusion_matrix.ConfusionMatrixDisplay at 0x7fdeb1ff1270>"
      ]
     },
     "execution_count": 15,
     "metadata": {},
     "output_type": "execute_result"
    },
    {
     "data": {
      "image/png": "[encoded data removed]",
      "text/plain": [
       "<Figure size 432x288 with 2 Axes>"
      ]
     },
     "metadata": {
      "needs_background": "light"
     },
     "output_type": "display_data"
    }
   ],
   "source": [
    "acc = accuracy_score(threshold_prediction, df_test['Class'])\n",
    "rec = recall_score(threshold_prediction, df_test['Class'])\n",
    "\n",
    "cm = confusion_matrix(threshold_prediction, df_test['Class'])\n",
    "\n",
    "print(f'TEST accuracy = {acc}')\n",
    "print(f'TEST recall = {rec}')\n",
    "\n",
    "cm_plot = ConfusionMatrixDisplay(cm, display_labels=['inlier', 'outlier'])\n",
    "\n",
    "cm_plot.plot()"
   ]
  },
  {
   "cell_type": "code",
   "execution_count": null,
   "id": "b938864f",
   "metadata": {},
   "outputs": [],
   "source": []
  }
 ],
 "metadata": {
  "kernelspec": {
   "display_name": "Python [conda env:keras]",
   "language": "python",
   "name": "conda-env-keras-py"
  },
  "language_info": {
   "codemirror_mode": {
    "name": "ipython",
    "version": 3
   },
   "file_extension": ".py",
   "mimetype": "text/x-python",
   "name": "python",
   "nbconvert_exporter": "python",
   "pygments_lexer": "ipython3",
   "version": "3.10.4"
  }
 },
 "nbformat": 4,
 "nbformat_minor": 5
}
